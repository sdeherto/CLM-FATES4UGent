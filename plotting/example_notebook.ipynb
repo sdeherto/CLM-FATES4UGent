{
 "cells": [
  {
   "cell_type": "markdown",
   "id": "51691a83",
   "metadata": {},
   "source": [
    "# Notebook with examples for Land-Climate Dynamics Practical Session 4: Analysing CLM"
   ]
  },
  {
   "cell_type": "markdown",
   "id": "fdf6c0cd",
   "metadata": {},
   "source": [
    "First, let's load the following python packages: \n",
    "\n",
    "- [xarray](http://xarray.pydata.org/en/stable/): package to load and manipulate netcdf data\n",
    "- [cartopy](https://scitools.org.uk/cartopy/docs/latest/): package to produce geospatial maps (we will use it for the coordinate reference system)\n",
    "- [matplotlib](https://matplotlib.org/): the well-know plotting package\n",
    "- numpy\n",
    "\n",
    "If you did not yet install these packages, use conda or pip in your terminal to install them (e.g. ```conda install xarray```)\n"
   ]
  },
  {
   "cell_type": "code",
   "execution_count": null,
   "id": "99283b7a",
   "metadata": {},
   "outputs": [],
   "source": [
    "import xarray as xr\n",
    "import cartopy.crs as ccrs\n",
    "import matplotlib.pyplot as plt\n",
    "import numpy as np"
   ]
  },
  {
   "cell_type": "markdown",
   "id": "a0647cb2",
   "metadata": {},
   "source": [
    "## 1. Open the dataset\n",
    "We use xarray to open the netcdf file into a **dataset** object (ds). This object contains the variables, dimensions and coordinates"
   ]
  },
  {
   "cell_type": "code",
   "execution_count": null,
   "id": "918be299",
   "metadata": {},
   "outputs": [],
   "source": [
    "filename = 'control_merged.nc'\n",
    "\n",
    "ds = xr.open_dataset(filename, decode_times=False)\n",
    "\n",
    "# look what's inside the dataset (click data variables)\n",
    "ds"
   ]
  },
  {
   "cell_type": "markdown",
   "id": "90207331",
   "metadata": {},
   "source": [
    "Next, we open one variable, specified by its name into a **data-array** (da) object. This object include some basic information on the variable itself. Here we showcase the runoff variable\n"
   ]
  },
  {
   "cell_type": "code",
   "execution_count": null,
   "id": "b068df6c",
   "metadata": {},
   "outputs": [],
   "source": [
    "# load the runoff variable and check its attributes\n",
    "da = ds['QRUNOFF']\n",
    "\n",
    "#print the data array\n",
    "da"
   ]
  },
  {
   "cell_type": "code",
   "execution_count": null,
   "id": "524c5155",
   "metadata": {},
   "outputs": [],
   "source": [
    "# get the longitude variable from the data array\n",
    "da['lon']"
   ]
  },
  {
   "cell_type": "code",
   "execution_count": null,
   "id": "22e3273f",
   "metadata": {},
   "outputs": [],
   "source": [
    "# check the units of the longitude\n",
    "da['lon'].units"
   ]
  },
  {
   "cell_type": "code",
   "execution_count": null,
   "id": "814efd01",
   "metadata": {},
   "outputs": [],
   "source": [
    "# check the units of the variable itself\n",
    "da.units"
   ]
  },
  {
   "cell_type": "code",
   "execution_count": null,
   "id": "d370945b",
   "metadata": {},
   "outputs": [],
   "source": [
    "# access the values of the variable as a numpy array\n",
    "da.values"
   ]
  },
  {
   "cell_type": "markdown",
   "id": "30821502",
   "metadata": {},
   "source": [
    "## 2. Manipulate data using xarray\n",
    "We can use xarray to manipulate data directly in python, like calculating means, standard deviations, take time slices etc ... You can find all functionality in the xarray online [documentation](http://xarray.pydata.org/en/stable/getting-started-guide/quick-overview.html). "
   ]
  },
  {
   "cell_type": "code",
   "execution_count": null,
   "id": "293dfb68",
   "metadata": {},
   "outputs": [],
   "source": [
    "# calculate mean over the time dimension\n",
    "da_mean = da.mean('time')\n",
    "\n",
    "# look at the result\n",
    "da_mean"
   ]
  },
  {
   "cell_type": "markdown",
   "id": "7445715e",
   "metadata": {},
   "source": [
    "## 3. Plotting the data\n",
    "Next we will use xarray to plot the data."
   ]
  },
  {
   "cell_type": "code",
   "execution_count": null,
   "id": "247a5157",
   "metadata": {},
   "outputs": [],
   "source": [
    "# define plotting parameters\n",
    "# variable \n",
    "da_toplot = da_mean\n",
    "\n",
    "# title \n",
    "title = 'example plot'\n",
    "\n",
    "# define colormap (more info on colormaps: https://matplotlib.org/users/colormaps.html)\n",
    "cmap = 'GnBu'\n",
    "\n",
    "# define colorbar label (including unit!)\n",
    "cbar_label = 'colorbar label (units)'\n",
    "\n",
    "# define the projection\n",
    "projection = ccrs.PlateCarree()\n",
    "\n"
   ]
  },
  {
   "cell_type": "code",
   "execution_count": null,
   "id": "32665e98",
   "metadata": {},
   "outputs": [],
   "source": [
    "# define figure, projection and axes object\n",
    "fig = plt.figure(figsize=(15,6))\n",
    "proj=ccrs.PlateCarree()\n",
    "ax = plt.subplot(111, projection=proj, frameon=False)\n",
    "\n",
    "# do plotting based on data array to plot and add colorbar, adjust label sizes\n",
    "im = da_toplot.plot(ax=ax, cmap=cmap, extend='both', add_colorbar=False, add_labels=False)\n",
    "cb = plt.colorbar(im,fraction= 0.02, pad= 0.04, extend='both')\n",
    "cb.set_label(label = cbar_label, size=15)\n",
    "cb.ax.tick_params(labelsize=12)\n",
    "\n",
    "# set the title and coastlines\n",
    "ax.set_title(title, loc='right', fontsize=20)\n",
    "ax.coastlines(color='dimgray', linewidth=0.5)\n"
   ]
  },
  {
   "cell_type": "markdown",
   "id": "c65b214e",
   "metadata": {},
   "source": [
    "### Do plotting with categorized colorbar, defined levels and minimum and maximum"
   ]
  },
  {
   "cell_type": "code",
   "execution_count": null,
   "id": "418cc6b2",
   "metadata": {},
   "outputs": [],
   "source": [
    "# define upper and lower plotting limits (by default min and max of dataarray)\n",
    "vmin = da.min()\n",
    "\n",
    "vmax = da.max()\n",
    "\n",
    "nsteps = 10\n",
    "\n",
    "# define colorbar levels\n",
    "levels = np.arange(vmin, vmax, (vmax-vmin)/nsteps)\n",
    "\n",
    "title = 'example plot with categorized colorbar'\n"
   ]
  },
  {
   "cell_type": "code",
   "execution_count": null,
   "id": "4fcf4f16",
   "metadata": {
    "scrolled": true
   },
   "outputs": [],
   "source": [
    "# define figure, projection and axes object\n",
    "fig = plt.figure(figsize=(15,6))\n",
    "proj=ccrs.PlateCarree()\n",
    "ax = plt.subplot(111, projection=proj, frameon=False)\n",
    "\n",
    "# do plotting based on data array to plot and add colorbar, adjust label sizes\n",
    "# within plotting, define the minimum and maximum and colorbar levels\n",
    "im = da_toplot.plot(ax=ax, cmap=cmap,vmin=vmin,vmax=vmax,levels=levels, extend='both', add_colorbar=False, add_labels=False)\n",
    "cb = plt.colorbar(im,fraction= 0.02, pad= 0.04, extend='both')\n",
    "cb.set_label(label = cbar_label, size=15)\n",
    "cb.ax.tick_params(labelsize=12)\n",
    "\n",
    "# set the title and coastlines\n",
    "ax.set_title(title, loc='right', fontsize=20)\n",
    "ax.coastlines(color='dimgray', linewidth=0.5)\n",
    "\n",
    "# adjust the plotting extent based (e.g. plot Europe)\n",
    "# ax.set_extent([-13, 43, 35, 70], ccrs.PlateCarree())\n"
   ]
  },
  {
   "cell_type": "code",
   "execution_count": null,
   "id": "4f0663f2",
   "metadata": {},
   "outputs": [],
   "source": [
    "# you can save your figure with the figure object\n",
    "fig.savefig('yourfigure.png', dpi=300)"
   ]
  },
  {
   "cell_type": "markdown",
   "id": "7969c178",
   "metadata": {},
   "source": [
    "Up to you! Have fun while coding! "
   ]
  },
  {
   "cell_type": "code",
   "execution_count": null,
   "id": "290c2e4f",
   "metadata": {},
   "outputs": [],
   "source": []
  }
 ],
 "metadata": {
  "kernelspec": {
   "display_name": "Python 3",
   "language": "python",
   "name": "python3"
  },
  "language_info": {
   "codemirror_mode": {
    "name": "ipython",
    "version": 3
   },
   "file_extension": ".py",
   "mimetype": "text/x-python",
   "name": "python",
   "nbconvert_exporter": "python",
   "pygments_lexer": "ipython3",
   "version": "3.6.11"
  }
 },
 "nbformat": 4,
 "nbformat_minor": 5
}
